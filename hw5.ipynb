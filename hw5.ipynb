{
  "nbformat": 4,
  "nbformat_minor": 0,
  "metadata": {
    "colab": {
      "name": "hw5.ipynb",
      "provenance": [],
      "toc_visible": true,
      "authorship_tag": "ABX9TyOjP+wODzc16PYz0IHxXku/"
    },
    "kernelspec": {
      "name": "python3",
      "display_name": "Python 3"
    },
    "language_info": {
      "name": "python"
    }
  },
  "cells": [
    {
      "cell_type": "markdown",
      "metadata": {
        "id": "KpHXDZQKv3gQ"
      },
      "source": [
        "# CSCE 623 Homework Assignment 5\n",
        "\n",
        "## Feature Transformation & Dimensionality's Curse"
      ]
    },
    {
      "cell_type": "markdown",
      "metadata": {
        "id": "BnP6x0WI1zIJ"
      },
      "source": [
        "## Instructions"
      ]
    },
    {
      "cell_type": "markdown",
      "metadata": {
        "id": "FvuxZDzwwF95"
      },
      "source": [
        "In this assignment, you'll\n",
        "\n",
        "- conduct transformations on feature inputs and target outputs\n",
        "- experiment with and select hyperparameters to find a model that will best fit a baseball player's dataset in predicting a ball player's salary\n",
        "\n",
        "Several demos have been provided for your use:\n",
        "- [Scaling Demo](https://colab.research.google.com/github/afit-csce623-master/demos/blob/main/demo_scaling.ipynb)\n",
        "- [RFECV Demo](https://colab.research.google.com/github/afit-csce623-master/demos/blob/main/demo_RFECV.ipynb)\n",
        "- [Ridge, Lasso, ElasticNet Demo](https://colab.research.google.com/github/afit-csce623-master/demos/blob/main/demo_ridge_lasso_elasticnet.ipynb)\n",
        "\n",
        "Using the data transformation pipeline in the scikit-learn library, you'll produce a table which lists some of the models you attempted, any applicable parameters you used, and the features used in the model. See an example table below.\n",
        "\n",
        "\n",
        "Specific expectations:\n",
        "\n",
        "\n",
        "* Perform your data analysis on the [ISLR_Hitters.csv](https://github.com/afit-csce623-master/datasets/blob/main/hw4_ISLR_Hitters.csv) dataset. \n",
        "* Separate the data into training and test sets\n",
        "* Choose appropriate transformations for the input features. You may choose from the following transformations:\n",
        "  * [MinMaxScaler](https://scikit-learn.org/stable/modules/generated/sklearn.preprocessing.MinMaxScaler.html)\n",
        "  * [StandardScaler](https://scikit-learn.org/stable/modules/generated/sklearn.preprocessing.StandardScaler.html)\n",
        "  * [PowerTransformer](https://scikit-learn.org/stable/modules/generated/sklearn.preprocessing.PowerTransformer.html)\n",
        "  * [OneHotEncoder](https://scikit-learn.org/stable/modules/generated/sklearn.preprocessing.OneHotEncoder.html)\n",
        "  * Custom encoder of your own creation (you are welcome to incorporate other sources)\n",
        "* Incorporate your chosen transformations into a scikit learn [ColumnTransformer](https://scikit-learn.org/stable/modules/generated/sklearn.compose.ColumnTransformer.html)\n",
        "  \n",
        "  Note: Though you can explore the effect of different transformations on the input features, this is not expected. Instead you should choose your input transformations well and put your primary effort into evaluating a variety of models\n",
        "\n",
        "* You will conduct the following steps using a variety of models. Ideally, you'll explore at least one range of model parameters using loops or nested loops to find optimal hyperparemeters. You may choose from the following:\n",
        "  * [Linear](https://scikit-learn.org/stable/modules/generated/sklearn.linear_model.LinearRegression.html) model\n",
        "  * [Ridge](https://scikit-learn.org/stable/modules/generated/sklearn.linear_model.Ridge.html) or [RidgeCV](https://scikit-learn.org/stable/modules/generated/sklearn.linear_model.RidgeCV.html) models with a range of $\\alpha$ values\n",
        "  * [Lasso](https://scikit-learn.org/stable/modules/generated/sklearn.linear_model.Lasso.html) or [LassoCV](https://scikit-learn.org/stable/modules/generated/sklearn.linear_model.LassoCV.html) models with a range of $\\alpha$ values\n",
        "  * [ElasticNet](https://scikit-learn.org/stable/modules/generated/sklearn.linear_model.ElasticNet.html) or [ElasticNetCV](https://scikit-learn.org/stable/modules/generated/sklearn.linear_model.ElasticNetCV.html) models with a range of $\\alpha$ or $l$1_ratio values\n",
        "  * Any of these models with subsets of the 22 feature columns (the csv has 21 columns, which will be 19 features after the names and salary are removed, but then it will be 21 features after the three categorical features are changed to one-hot categories)\n",
        "* Incorporate the column transformation with each selected model into a scikit learn [Pipeline](https://scikit-learn.org/stable/modules/generated/sklearn.pipeline.Pipeline.html)\n",
        "* If necessary, select or create a target transformation and incorporate both your target transformation and your Pipeline into a [TransformedTargetRegressor](https://scikit-learn.org/stable/modules/generated/sklearn.compose.TransformedTargetRegressor.html)\n",
        "* Capture the best version of each model you create in a table such as the the one below.\n",
        "  \n",
        "  Note: Provide the cross-validation RMSE followed by the model's RMSE and the $R^2$ score on the test set. RMSE units should be in the same units as the original dataset. Every entry in the table should be supported by code in your notebook\n",
        "\n",
        "* Answer the questions in the cell with the \"Student Answers\" header\n",
        "\n",
        "\n"
      ]
    },
    {
      "cell_type": "markdown",
      "metadata": {
        "id": "ImrXt8uw747p"
      },
      "source": [
        "Example Completed Table:\n",
        "\n",
        "| Algorithm                                           | # Features |  CV RMSE | Test RMSE | Test $R^2$ | AtBat    | Hits     | HmRun    |  Runs    | RBI      | Walks    | Years    | CAtBat   | CHits    | CHmRun   | CRuns    | CRBI     | CWalks   | League   | Division | PutOuts  | Assists  | Errors    | NewLeague |\n",
        "|-----------------------------------------------------|-----------:|-----------:|:---------:|:--------:|:--------:|:--------:|:--------:|:--------:|:--------:|:--------:|:--------:|:--------:|:--------:|:--------:|:--------:|:--------:|:--------:|:--------:|:--------:|:--------:|:--------:|:---------:|:---------:|\n",
        "| Linear                                              |         19 |     305.23 |    356.44 |   0.1805 |     x    |     x    |     x    |     x    |     x    |     x    |     x    |     x    |     x    |     x    |     x    |     x    |     x    |     x    |     x    |     x    |     x    |     x     |     x     |\n",
        "| Best Subset <br/>Linear                             |          7 |     300.41 |    338.01 |   0.2631 |          |          |     x    |     x    |          |          |          |     x    |     x    |          |          |     x    |          |          |     x    |     x    |          |           |           |\n",
        "| RFECV                                               |         15 |     305.45 |    363.32 |   0.1485 |     x    |     x    |     x    |     x    |          |     x    |     x    |     x    |     x    |     x    |     x    |     x    |     x    |     x    |     x    |     x    |          |           |           |\n",
        "| RidgeCV <br/>$\\alpha$=10                            |         19 |     316.47 |    342.79 |   0.2421 |     x    |     x    |     x    |     x    |     x    |     x    |     x    |     x    |     x    |     x    |     x    |     x    |     x    |     x    |     x    |     x    |     x    |     x     |     x     |\n",
        "| LassoCV <br/>$\\alpha$=0.01                          |         10 |     314.22 |    350.08 |   0.2095 |          |     x    |     x    |     x    |     x    |          |     x    |          |          |     x    |          |     x    |          |     x    |     x    |     x    |          |           |           |\n",
        "| ElasticNetCV <br/>$\\alpha$=0.01 <br/>$l$1ratio=0.70 |         11 |     313.86 |    350.26 |   0.2086 |          |     x    |     x    |     x    |     x    |          |     x    |          |          |     x    |          |     x    |          |     x    |     x    |     x    |          |     x     |           |\n",
        "| Best Set <br/>ElasticNet <br/>$\\alpha$=0.01 <br/>$l$1ratio=0.70 | 6 | 316.39 | 348.27       | 0.2281 |     x    |          |     x    |     x    |          |          |          |          |          |          |          |     x    |          |          |     x    |     x    |          |           |           |"
      ]
    },
    {
      "cell_type": "markdown",
      "metadata": {
        "id": "gBgYz6jM7X_q"
      },
      "source": [
        "## Hints\n",
        "\n",
        "Here is a possible workflow, if you're looking for one.\n",
        "\n",
        "- Load data (this step has already been accomplished for you)\n",
        "- Review the [Scaling Demo](https://colab.research.google.com/github/afit-csce623-master/demos/blob/main/demo_scaling.ipynb)\n",
        "- Sequester Test Data\n",
        "- Analyze Training Data and decide on an appropriate transformation for each feature\n",
        "- Build ColumnTransformer\n",
        "- Create a list of column names meaningful to your transform (this will make it easier to refer to your columns later)\n",
        "- Decide on an appropriate transformation for your target data (but don't build or apply the transformation, yet)\n",
        "- First Model\n",
        "  - Build a ColumnTransformer -> Pipeline -> TransformedTargetRegressor (use a Linear Regression model)\n",
        "  - Fit your model, collect RMSE for the train and test set, $R^2$ for the test set\n",
        "- Subsequent models\n",
        "  - Review the [Ridge, Lasso, ElasticNet Demo](https://colab.research.google.com/github/afit-csce623-master/demos/blob/main/demo_ridge_lasso_elasticnet.ipynb)\n",
        "  - Try RidgeCV, LassoCV, or ElasticNetCV. Note that with the models, you don't need to use loops to iterate over hyperparameters. Instead, pass in the range of $\\alpha$ and $l$1_ratio values, if applicable, in an array in to the model (you'll need a new ColumnTransformer -> Pipeline -> TransformedTargetRegressor workflow, but only the model in Pipeline should need to change)\n",
        "  - Try using [subsets of features](https://colab.research.google.com/github/afit-csce623-master/demos/blob/main/demo_scaling.ipynb#scrollTo=2Ju0idShanht) with a Linear model\n",
        "  - Combine subsets of features while also searching over a range of $\\alpha$ and $l$1ratio values with ElasticNet\n",
        "  - Try RFECV with the [RFECV demo](https://colab.research.google.com/github/afit-csce623-master/demos/blob/main/demo_RFECV)"
      ]
    },
    {
      "cell_type": "markdown",
      "metadata": {
        "id": "4foZjTm410ST"
      },
      "source": [
        "## FAQ\n",
        "\n",
        "1. Do I have to use the scikit-learn data transformation pipeline? I think I can implement the transformations on my own and save myself the trouble.\n",
        "\n",
        "  With basic coding skills, you can implement the transforms yourself, but I advise against it for three reasons.\n",
        " \n",
        "  - Every key stroke of code that you type is a potential source of error. Some errors are readily caught by the interpreter. Others are syntatically correct, but have semantic errors. When you implement your own transformations, you have to verify that they are correct. Custom implementation increases the complexity of your code and increases the amount of time you must spend in debugging, testing, and maintaining your code.\n",
        "  - When you implement your own transformations, you must remember to apply them every time you are using the features to train or evaluate a model. When using transformations on the target data, you must remember to apply them when you are training your model, but you must invert the transformation to evaluate and score your model. The scikit learn transformation workflow makes it easy to link all of these behaviors so that they are applied whenever you fit, predict, or score a model. Implementing these transformations yourself increase the liklihood that one or more of them is dropped inadvertently when refactoring or updating your code. A dropped transformation can be a challenging bug to identify and fix.\n",
        "  - The simplicity of the scikit learn workflow, after you learn it, increases the probability you'll actually apply a transformation when you think you need it. If you had to implement your own transformation or go find some old code where you had previously implemented something similar, you're less likely to implement a transformation in marginal cases. You're even less likely to try several transformations to compare performance. ON the other hand, if you learn the scikit learn workflow, you're more likely to apply a transformation and possibly compare the results of several transformations.\n",
        "\n",
        "2. Help! I just realized it will take _6 years_ to run my hyperparameter search.\n",
        "\n",
        "  Welcome to ***Dimensionality's Curse!*** Though you can potentially speed things up by parallelizing the problem, assigning parts of the analysis to different processors, but the run time of your problem will grow much faster with increases in dimensionality than you'll be able to reduce it by incorporating more processors. By way of example, consider the following set of options:\n",
        "\n",
        "  - 2 model options: Linear and ElasticNet\n",
        "  - 10-fold cross-validation\n",
        "  - 8 options for ElasticNet alpha\n",
        "  - 10 options for ElasticNet 1l_ratio \n",
        "  - 22 features with best subset selection\n",
        "\n",
        "  The above options will require evaluating 3,355,443,200 models. Even if it takes just 0.008 seconds to evaluate a single model, it will take nearly 27 million hours to consider every possible model created by the combinations above.\n",
        "  - Linear: 10 * 4,194,304 = 41,943,040\n",
        "  - ElasticNet: 10 * 8 * 10 * 4,194,304 = 3,355,443,200\n",
        "\n",
        "  You'll have to smartly down-select from the above options in order to achieve timely results.\n",
        "\n",
        "3. What are some ways that I can reduce the number of models I have to fit?\n",
        "\n",
        "  - If looking at best subsets of features, rather than considering the complete powerset of features, consider those that are correlated with salary. Consider using a [correlation heat map](https://colab.research.google.com/github/afit-csce623-master/demos/blob/main/demo_RFECV.ipynb#scrollTo=b9jMDC2P3s_l&line=1&uniqifier=1) to identify candidate features. Remember that both positive and negative values are potentially meaningful. The key attribute in correlation is distance to zero / closeness to either -1.0 or 1.0.\n",
        "  - Reduce the space of feature values over which you're searching on the basis of other searches. For example, consider limiting the features you examine to those kept by RFECV. Narrow your search of exhaustive $\\alpha$ and $l$1_ratio values to those near where ElasticNetCV was optimized.\n"
      ]
    },
    {
      "cell_type": "markdown",
      "metadata": {
        "id": "Ls3Ii_AAqQnY"
      },
      "source": [
        "# Student Answers"
      ]
    },
    {
      "cell_type": "markdown",
      "metadata": {
        "id": "K9A4MwS8r6HE"
      },
      "source": [
        "1. Insert your summary model performance table in the text cell below. Hint: with the limited width available in the Colab IDE, it can be helpful to manipulate the table in a separate text editor.\n",
        "\n",
        "2. If required to use a model to predict baseball player salaries, which model would you use? Why would you choose it? Is it a good model? What are its strengths or weaknesses?\n",
        "\n",
        "   <font color=\"green\">Student Answer</font>\n",
        "\n",
        "3. Discuss any relationships between features and the models you created and recorded. Are there some features that seem more important than others? What features are likely to be important in a successful model? What features could be interchanged with others (because they are highly correlated and contain similar information)? What do you think would be needed to improve your model?\n",
        "\n",
        "   <font color=\"green\">Student Answer</font>\n",
        "\n",
        "4. After applying a one-hot encoding to the feature set, there are 22 features. There are 4,194,303 combinations of features that can be evaluated. Using the Google Colab servers, it would take approximately 48 hours just to evaluate a Linear regression model on each of these combinations using 10-fold cross-validation. Discuss how you dealt with the curse of dimensionality in order to optimize your search for a good model.\n",
        "\n",
        "  <font color=\"green\">Student Answer</font>\n",
        "\n"
      ]
    },
    {
      "cell_type": "markdown",
      "metadata": {
        "id": "j-PbMyqksGxd"
      },
      "source": [
        "<< Student Model Performance Table >>\n",
        "\n",
        "| Algorithm                                           | # Features | Train RMSE | Test RMSE |   $R^2$  | AtBat    | Hits     | HmRun    |  Runs    | RBI      | Walks    | Years    | CAtBat   | CHits    | CHmRun   | CRuns    | CRBI     | CWalks   | League   | Division | PutOuts  | Assists  | Errors    | NewLeague |\n",
        "|-----------------------------------------------------|-----------:|-----------:|:---------:|:--------:|:--------:|:--------:|:--------:|:--------:|:--------:|:--------:|:--------:|:--------:|:--------:|:--------:|:--------:|:--------:|:--------:|:--------:|:--------:|:--------:|:--------:|:---------:|:---------:|\n",
        "| Template                                            |         19 |            |    180.00 |   0.9999 |     x    |     x    |     x    |     x    |     x    |     x    |     x    |     x    |     x    |     x    |     x    |     x    |     x    |     x    |     x    |     x    |     x    |     x     |     x     |\n"
      ]
    },
    {
      "cell_type": "markdown",
      "metadata": {
        "id": "F9EWkjE26cc1"
      },
      "source": [
        "# Implementation"
      ]
    },
    {
      "cell_type": "markdown",
      "metadata": {
        "id": "LqU6fsC3Ih2O"
      },
      "source": [
        "## Configuration & Imports\n",
        "\n",
        "Add all packages you'll use here"
      ]
    },
    {
      "cell_type": "code",
      "metadata": {
        "id": "2B06zTn0XKpN"
      },
      "source": [
        "from IPython.display import Markdown as md\n",
        "from IPython.display import display, Math, Latex\n",
        "from itertools import chain, combinations\n",
        "from contextlib import suppress\n",
        "import time\n",
        "import pandas as pd\n",
        "import numpy as np\n",
        "import warnings\n",
        "from sklearn.model_selection import train_test_split, RepeatedKFold, cross_val_score\n",
        "from sklearn.compose import ColumnTransformer, TransformedTargetRegressor\n",
        "from sklearn.preprocessing import OneHotEncoder, StandardScaler, MinMaxScaler, PowerTransformer\n",
        "from sklearn.feature_selection import RFECV\n",
        "from sklearn.linear_model import LinearRegression, RidgeCV, LassoCV, ElasticNetCV, ElasticNet\n",
        "from sklearn.pipeline import Pipeline\n",
        "from sklearn.metrics import mean_squared_error, r2_score\n",
        "import matplotlib.pyplot as plt"
      ],
      "execution_count": null,
      "outputs": []
    },
    {
      "cell_type": "markdown",
      "metadata": {
        "id": "0yQsNwDB6Z1g"
      },
      "source": [
        "## Helper Functions"
      ]
    },
    {
      "cell_type": "code",
      "metadata": {
        "id": "HcH0XF0Rlj1D"
      },
      "source": [
        "# converts a floating point value to the format HH:MM:SS\n",
        "def convert_to_time(seconds):\n",
        "    return time.strftime('%H:%M:%S', time.gmtime(seconds))"
      ],
      "execution_count": null,
      "outputs": []
    },
    {
      "cell_type": "code",
      "metadata": {
        "id": "DiVF0Xtslg37"
      },
      "source": [
        "# outputs a progress string, keeping only the best score while showing current progress\n",
        "def print_progress_str(start_time, trial_time, total_trials, current_trial_idx, feature_set_name_str, best_score, current_score, params=' '):\n",
        "\n",
        "    time_elapsed_str = convert_to_time(time.perf_counter() - start_time)\n",
        "    time_trial_sec = time.perf_counter() - trial_time\n",
        "\n",
        "    if params != ' ':\n",
        "        params = ' ' + params + ' '\n",
        "\n",
        "    status_str = f'{time_elapsed_str} {time_trial_sec:.2f}s {current_trial_idx} of {total_trials}:{params}{feature_set_name_str} {current_score}'\n",
        "    remaining_time = (time.perf_counter() - start_time) / current_trial_idx * (total_trials - current_trial_idx)\n",
        "    \n",
        "    if (current_score < best_score):\n",
        "        print('\\r', status_str)\n",
        "    else:\n",
        "        print('\\r', status_str, f'Time Remaining: {time.strftime(\"%H:%M:%S\", time.gmtime(remaining_time))}', end='')"
      ],
      "execution_count": null,
      "outputs": []
    },
    {
      "cell_type": "code",
      "metadata": {
        "id": "lrzBuaM09DyQ"
      },
      "source": [
        "# return the powerset downselected by sets having between j and k, inclusive, elements\n",
        "# adapted from https://docs.python.org/3/library/itertools.html#itertools-recipes\n",
        "\n",
        "def powerset(iterable, j=1, k=999):\n",
        "    \"powerset([1,2,3]) --> () (1,) (2,) (3,) (1,2) (1,3) (2,3) (1,2,3)\"\n",
        "    s = list(iterable)\n",
        "\n",
        "    # start with 1, as we don't need the empty set\n",
        "    p = list(chain.from_iterable(combinations(s, r) for r in range(1, len(s)+1)))\n",
        "    return [item for item in p if len(item) >= j and len(item) <= k]"
      ],
      "execution_count": null,
      "outputs": []
    },
    {
      "cell_type": "markdown",
      "metadata": {
        "id": "958CVMBB3zyf"
      },
      "source": [
        "## Global Constants"
      ]
    },
    {
      "cell_type": "code",
      "metadata": {
        "id": "hisGR2_zEWEz"
      },
      "source": [
        "# Global Constants\n",
        "KFOLD = 5\n"
      ],
      "execution_count": null,
      "outputs": []
    },
    {
      "cell_type": "markdown",
      "metadata": {
        "id": "RrAfyGVwIng2"
      },
      "source": [
        "## Load Data"
      ]
    },
    {
      "cell_type": "markdown",
      "metadata": {
        "id": "N7NVDpO8C8X_"
      },
      "source": [
        "Load the _Hitters_ dataset provided by _ISLR_ text.\n",
        "\n",
        "- Be sure to cleanup data by removing missing data fields\n",
        "- Conduct minimal analysis of the dataset to become familiar with the data types and ranges. Leave more thorough analysis for the training set.\n",
        "\n",
        "***This step is already completed for you***."
      ]
    },
    {
      "cell_type": "code",
      "metadata": {
        "id": "m-rDwb44WY0Q",
        "colab": {
          "base_uri": "https://localhost:8080/",
          "height": 1000
        },
        "outputId": "5571f73b-6fba-419f-ac4a-ae8ba98b6c34"
      },
      "source": [
        "df = pd.read_csv('https://raw.githubusercontent.com/afit-csce623-master/datasets/main/hw4_ISLR_Hitters.csv').dropna()\n",
        "df.info()\n",
        "display(df.head())\n",
        "display(df.describe())"
      ],
      "execution_count": null,
      "outputs": [
        {
          "output_type": "stream",
          "text": [
            "<class 'pandas.core.frame.DataFrame'>\n",
            "Int64Index: 263 entries, 1 to 321\n",
            "Data columns (total 21 columns):\n",
            " #   Column      Non-Null Count  Dtype  \n",
            "---  ------      --------------  -----  \n",
            " 0   Unnamed: 0  263 non-null    object \n",
            " 1   AtBat       263 non-null    int64  \n",
            " 2   Hits        263 non-null    int64  \n",
            " 3   HmRun       263 non-null    int64  \n",
            " 4   Runs        263 non-null    int64  \n",
            " 5   RBI         263 non-null    int64  \n",
            " 6   Walks       263 non-null    int64  \n",
            " 7   Years       263 non-null    int64  \n",
            " 8   CAtBat      263 non-null    int64  \n",
            " 9   CHits       263 non-null    int64  \n",
            " 10  CHmRun      263 non-null    int64  \n",
            " 11  CRuns       263 non-null    int64  \n",
            " 12  CRBI        263 non-null    int64  \n",
            " 13  CWalks      263 non-null    int64  \n",
            " 14  League      263 non-null    object \n",
            " 15  Division    263 non-null    object \n",
            " 16  PutOuts     263 non-null    int64  \n",
            " 17  Assists     263 non-null    int64  \n",
            " 18  Errors      263 non-null    int64  \n",
            " 19  Salary      263 non-null    float64\n",
            " 20  NewLeague   263 non-null    object \n",
            "dtypes: float64(1), int64(16), object(4)\n",
            "memory usage: 45.2+ KB\n"
          ],
          "name": "stdout"
        },
        {
          "output_type": "display_data",
          "data": {
            "text/html": [
              "<div>\n",
              "<style scoped>\n",
              "    .dataframe tbody tr th:only-of-type {\n",
              "        vertical-align: middle;\n",
              "    }\n",
              "\n",
              "    .dataframe tbody tr th {\n",
              "        vertical-align: top;\n",
              "    }\n",
              "\n",
              "    .dataframe thead th {\n",
              "        text-align: right;\n",
              "    }\n",
              "</style>\n",
              "<table border=\"1\" class=\"dataframe\">\n",
              "  <thead>\n",
              "    <tr style=\"text-align: right;\">\n",
              "      <th></th>\n",
              "      <th>Unnamed: 0</th>\n",
              "      <th>AtBat</th>\n",
              "      <th>Hits</th>\n",
              "      <th>HmRun</th>\n",
              "      <th>Runs</th>\n",
              "      <th>RBI</th>\n",
              "      <th>Walks</th>\n",
              "      <th>Years</th>\n",
              "      <th>CAtBat</th>\n",
              "      <th>CHits</th>\n",
              "      <th>CHmRun</th>\n",
              "      <th>CRuns</th>\n",
              "      <th>CRBI</th>\n",
              "      <th>CWalks</th>\n",
              "      <th>League</th>\n",
              "      <th>Division</th>\n",
              "      <th>PutOuts</th>\n",
              "      <th>Assists</th>\n",
              "      <th>Errors</th>\n",
              "      <th>Salary</th>\n",
              "      <th>NewLeague</th>\n",
              "    </tr>\n",
              "  </thead>\n",
              "  <tbody>\n",
              "    <tr>\n",
              "      <th>1</th>\n",
              "      <td>Alan Ashby</td>\n",
              "      <td>315</td>\n",
              "      <td>81</td>\n",
              "      <td>7</td>\n",
              "      <td>24</td>\n",
              "      <td>38</td>\n",
              "      <td>39</td>\n",
              "      <td>14</td>\n",
              "      <td>3449</td>\n",
              "      <td>835</td>\n",
              "      <td>69</td>\n",
              "      <td>321</td>\n",
              "      <td>414</td>\n",
              "      <td>375</td>\n",
              "      <td>N</td>\n",
              "      <td>W</td>\n",
              "      <td>632</td>\n",
              "      <td>43</td>\n",
              "      <td>10</td>\n",
              "      <td>475.0</td>\n",
              "      <td>N</td>\n",
              "    </tr>\n",
              "    <tr>\n",
              "      <th>2</th>\n",
              "      <td>Alvin Davis</td>\n",
              "      <td>479</td>\n",
              "      <td>130</td>\n",
              "      <td>18</td>\n",
              "      <td>66</td>\n",
              "      <td>72</td>\n",
              "      <td>76</td>\n",
              "      <td>3</td>\n",
              "      <td>1624</td>\n",
              "      <td>457</td>\n",
              "      <td>63</td>\n",
              "      <td>224</td>\n",
              "      <td>266</td>\n",
              "      <td>263</td>\n",
              "      <td>A</td>\n",
              "      <td>W</td>\n",
              "      <td>880</td>\n",
              "      <td>82</td>\n",
              "      <td>14</td>\n",
              "      <td>480.0</td>\n",
              "      <td>A</td>\n",
              "    </tr>\n",
              "    <tr>\n",
              "      <th>3</th>\n",
              "      <td>Andre Dawson</td>\n",
              "      <td>496</td>\n",
              "      <td>141</td>\n",
              "      <td>20</td>\n",
              "      <td>65</td>\n",
              "      <td>78</td>\n",
              "      <td>37</td>\n",
              "      <td>11</td>\n",
              "      <td>5628</td>\n",
              "      <td>1575</td>\n",
              "      <td>225</td>\n",
              "      <td>828</td>\n",
              "      <td>838</td>\n",
              "      <td>354</td>\n",
              "      <td>N</td>\n",
              "      <td>E</td>\n",
              "      <td>200</td>\n",
              "      <td>11</td>\n",
              "      <td>3</td>\n",
              "      <td>500.0</td>\n",
              "      <td>N</td>\n",
              "    </tr>\n",
              "    <tr>\n",
              "      <th>4</th>\n",
              "      <td>Andres Galarraga</td>\n",
              "      <td>321</td>\n",
              "      <td>87</td>\n",
              "      <td>10</td>\n",
              "      <td>39</td>\n",
              "      <td>42</td>\n",
              "      <td>30</td>\n",
              "      <td>2</td>\n",
              "      <td>396</td>\n",
              "      <td>101</td>\n",
              "      <td>12</td>\n",
              "      <td>48</td>\n",
              "      <td>46</td>\n",
              "      <td>33</td>\n",
              "      <td>N</td>\n",
              "      <td>E</td>\n",
              "      <td>805</td>\n",
              "      <td>40</td>\n",
              "      <td>4</td>\n",
              "      <td>91.5</td>\n",
              "      <td>N</td>\n",
              "    </tr>\n",
              "    <tr>\n",
              "      <th>5</th>\n",
              "      <td>Alfredo Griffin</td>\n",
              "      <td>594</td>\n",
              "      <td>169</td>\n",
              "      <td>4</td>\n",
              "      <td>74</td>\n",
              "      <td>51</td>\n",
              "      <td>35</td>\n",
              "      <td>11</td>\n",
              "      <td>4408</td>\n",
              "      <td>1133</td>\n",
              "      <td>19</td>\n",
              "      <td>501</td>\n",
              "      <td>336</td>\n",
              "      <td>194</td>\n",
              "      <td>A</td>\n",
              "      <td>W</td>\n",
              "      <td>282</td>\n",
              "      <td>421</td>\n",
              "      <td>25</td>\n",
              "      <td>750.0</td>\n",
              "      <td>A</td>\n",
              "    </tr>\n",
              "  </tbody>\n",
              "</table>\n",
              "</div>"
            ],
            "text/plain": [
              "         Unnamed: 0  AtBat  Hits  HmRun  ...  Assists  Errors  Salary  NewLeague\n",
              "1        Alan Ashby    315    81      7  ...       43      10   475.0          N\n",
              "2       Alvin Davis    479   130     18  ...       82      14   480.0          A\n",
              "3      Andre Dawson    496   141     20  ...       11       3   500.0          N\n",
              "4  Andres Galarraga    321    87     10  ...       40       4    91.5          N\n",
              "5   Alfredo Griffin    594   169      4  ...      421      25   750.0          A\n",
              "\n",
              "[5 rows x 21 columns]"
            ]
          },
          "metadata": {
            "tags": []
          }
        },
        {
          "output_type": "display_data",
          "data": {
            "text/html": [
              "<div>\n",
              "<style scoped>\n",
              "    .dataframe tbody tr th:only-of-type {\n",
              "        vertical-align: middle;\n",
              "    }\n",
              "\n",
              "    .dataframe tbody tr th {\n",
              "        vertical-align: top;\n",
              "    }\n",
              "\n",
              "    .dataframe thead th {\n",
              "        text-align: right;\n",
              "    }\n",
              "</style>\n",
              "<table border=\"1\" class=\"dataframe\">\n",
              "  <thead>\n",
              "    <tr style=\"text-align: right;\">\n",
              "      <th></th>\n",
              "      <th>AtBat</th>\n",
              "      <th>Hits</th>\n",
              "      <th>HmRun</th>\n",
              "      <th>Runs</th>\n",
              "      <th>RBI</th>\n",
              "      <th>Walks</th>\n",
              "      <th>Years</th>\n",
              "      <th>CAtBat</th>\n",
              "      <th>CHits</th>\n",
              "      <th>CHmRun</th>\n",
              "      <th>CRuns</th>\n",
              "      <th>CRBI</th>\n",
              "      <th>CWalks</th>\n",
              "      <th>PutOuts</th>\n",
              "      <th>Assists</th>\n",
              "      <th>Errors</th>\n",
              "      <th>Salary</th>\n",
              "    </tr>\n",
              "  </thead>\n",
              "  <tbody>\n",
              "    <tr>\n",
              "      <th>count</th>\n",
              "      <td>263.000000</td>\n",
              "      <td>263.000000</td>\n",
              "      <td>263.000000</td>\n",
              "      <td>263.000000</td>\n",
              "      <td>263.000000</td>\n",
              "      <td>263.000000</td>\n",
              "      <td>263.000000</td>\n",
              "      <td>263.000000</td>\n",
              "      <td>263.000000</td>\n",
              "      <td>263.000000</td>\n",
              "      <td>263.000000</td>\n",
              "      <td>263.000000</td>\n",
              "      <td>263.000000</td>\n",
              "      <td>263.000000</td>\n",
              "      <td>263.000000</td>\n",
              "      <td>263.000000</td>\n",
              "      <td>263.000000</td>\n",
              "    </tr>\n",
              "    <tr>\n",
              "      <th>mean</th>\n",
              "      <td>403.642586</td>\n",
              "      <td>107.828897</td>\n",
              "      <td>11.619772</td>\n",
              "      <td>54.745247</td>\n",
              "      <td>51.486692</td>\n",
              "      <td>41.114068</td>\n",
              "      <td>7.311787</td>\n",
              "      <td>2657.543726</td>\n",
              "      <td>722.186312</td>\n",
              "      <td>69.239544</td>\n",
              "      <td>361.220532</td>\n",
              "      <td>330.418251</td>\n",
              "      <td>260.266160</td>\n",
              "      <td>290.711027</td>\n",
              "      <td>118.760456</td>\n",
              "      <td>8.593156</td>\n",
              "      <td>535.925882</td>\n",
              "    </tr>\n",
              "    <tr>\n",
              "      <th>std</th>\n",
              "      <td>147.307209</td>\n",
              "      <td>45.125326</td>\n",
              "      <td>8.757108</td>\n",
              "      <td>25.539816</td>\n",
              "      <td>25.882714</td>\n",
              "      <td>21.718056</td>\n",
              "      <td>4.793616</td>\n",
              "      <td>2286.582929</td>\n",
              "      <td>648.199644</td>\n",
              "      <td>82.197581</td>\n",
              "      <td>331.198571</td>\n",
              "      <td>323.367668</td>\n",
              "      <td>264.055868</td>\n",
              "      <td>279.934575</td>\n",
              "      <td>145.080577</td>\n",
              "      <td>6.606574</td>\n",
              "      <td>451.118681</td>\n",
              "    </tr>\n",
              "    <tr>\n",
              "      <th>min</th>\n",
              "      <td>19.000000</td>\n",
              "      <td>1.000000</td>\n",
              "      <td>0.000000</td>\n",
              "      <td>0.000000</td>\n",
              "      <td>0.000000</td>\n",
              "      <td>0.000000</td>\n",
              "      <td>1.000000</td>\n",
              "      <td>19.000000</td>\n",
              "      <td>4.000000</td>\n",
              "      <td>0.000000</td>\n",
              "      <td>2.000000</td>\n",
              "      <td>3.000000</td>\n",
              "      <td>1.000000</td>\n",
              "      <td>0.000000</td>\n",
              "      <td>0.000000</td>\n",
              "      <td>0.000000</td>\n",
              "      <td>67.500000</td>\n",
              "    </tr>\n",
              "    <tr>\n",
              "      <th>25%</th>\n",
              "      <td>282.500000</td>\n",
              "      <td>71.500000</td>\n",
              "      <td>5.000000</td>\n",
              "      <td>33.500000</td>\n",
              "      <td>30.000000</td>\n",
              "      <td>23.000000</td>\n",
              "      <td>4.000000</td>\n",
              "      <td>842.500000</td>\n",
              "      <td>212.000000</td>\n",
              "      <td>15.000000</td>\n",
              "      <td>105.500000</td>\n",
              "      <td>95.000000</td>\n",
              "      <td>71.000000</td>\n",
              "      <td>113.500000</td>\n",
              "      <td>8.000000</td>\n",
              "      <td>3.000000</td>\n",
              "      <td>190.000000</td>\n",
              "    </tr>\n",
              "    <tr>\n",
              "      <th>50%</th>\n",
              "      <td>413.000000</td>\n",
              "      <td>103.000000</td>\n",
              "      <td>9.000000</td>\n",
              "      <td>52.000000</td>\n",
              "      <td>47.000000</td>\n",
              "      <td>37.000000</td>\n",
              "      <td>6.000000</td>\n",
              "      <td>1931.000000</td>\n",
              "      <td>516.000000</td>\n",
              "      <td>40.000000</td>\n",
              "      <td>250.000000</td>\n",
              "      <td>230.000000</td>\n",
              "      <td>174.000000</td>\n",
              "      <td>224.000000</td>\n",
              "      <td>45.000000</td>\n",
              "      <td>7.000000</td>\n",
              "      <td>425.000000</td>\n",
              "    </tr>\n",
              "    <tr>\n",
              "      <th>75%</th>\n",
              "      <td>526.000000</td>\n",
              "      <td>141.500000</td>\n",
              "      <td>18.000000</td>\n",
              "      <td>73.000000</td>\n",
              "      <td>71.000000</td>\n",
              "      <td>57.000000</td>\n",
              "      <td>10.000000</td>\n",
              "      <td>3890.500000</td>\n",
              "      <td>1054.000000</td>\n",
              "      <td>92.500000</td>\n",
              "      <td>497.500000</td>\n",
              "      <td>424.500000</td>\n",
              "      <td>328.500000</td>\n",
              "      <td>322.500000</td>\n",
              "      <td>192.000000</td>\n",
              "      <td>13.000000</td>\n",
              "      <td>750.000000</td>\n",
              "    </tr>\n",
              "    <tr>\n",
              "      <th>max</th>\n",
              "      <td>687.000000</td>\n",
              "      <td>238.000000</td>\n",
              "      <td>40.000000</td>\n",
              "      <td>130.000000</td>\n",
              "      <td>121.000000</td>\n",
              "      <td>105.000000</td>\n",
              "      <td>24.000000</td>\n",
              "      <td>14053.000000</td>\n",
              "      <td>4256.000000</td>\n",
              "      <td>548.000000</td>\n",
              "      <td>2165.000000</td>\n",
              "      <td>1659.000000</td>\n",
              "      <td>1566.000000</td>\n",
              "      <td>1377.000000</td>\n",
              "      <td>492.000000</td>\n",
              "      <td>32.000000</td>\n",
              "      <td>2460.000000</td>\n",
              "    </tr>\n",
              "  </tbody>\n",
              "</table>\n",
              "</div>"
            ],
            "text/plain": [
              "            AtBat        Hits       HmRun  ...     Assists      Errors       Salary\n",
              "count  263.000000  263.000000  263.000000  ...  263.000000  263.000000   263.000000\n",
              "mean   403.642586  107.828897   11.619772  ...  118.760456    8.593156   535.925882\n",
              "std    147.307209   45.125326    8.757108  ...  145.080577    6.606574   451.118681\n",
              "min     19.000000    1.000000    0.000000  ...    0.000000    0.000000    67.500000\n",
              "25%    282.500000   71.500000    5.000000  ...    8.000000    3.000000   190.000000\n",
              "50%    413.000000  103.000000    9.000000  ...   45.000000    7.000000   425.000000\n",
              "75%    526.000000  141.500000   18.000000  ...  192.000000   13.000000   750.000000\n",
              "max    687.000000  238.000000   40.000000  ...  492.000000   32.000000  2460.000000\n",
              "\n",
              "[8 rows x 17 columns]"
            ]
          },
          "metadata": {
            "tags": []
          }
        }
      ]
    },
    {
      "cell_type": "markdown",
      "metadata": {
        "id": "uuAok5ShIuOc"
      },
      "source": [
        "## Sequester Test Data"
      ]
    },
    {
      "cell_type": "code",
      "metadata": {
        "id": "6hCYwG0Z9S-v"
      },
      "source": [
        ""
      ],
      "execution_count": null,
      "outputs": []
    },
    {
      "cell_type": "markdown",
      "metadata": {
        "id": "w3Odm8JAJw56"
      },
      "source": [
        "## Setup Transforms & Pipeline"
      ]
    },
    {
      "cell_type": "code",
      "metadata": {
        "id": "qyB5FWroGHSu"
      },
      "source": [
        "\n"
      ],
      "execution_count": null,
      "outputs": []
    },
    {
      "cell_type": "markdown",
      "metadata": {
        "id": "Ff3nlAgGKgyq"
      },
      "source": [
        "## Linear Model"
      ]
    },
    {
      "cell_type": "code",
      "metadata": {
        "id": "SCiLV4kmqRps"
      },
      "source": [
        ""
      ],
      "execution_count": null,
      "outputs": []
    },
    {
      "cell_type": "markdown",
      "metadata": {
        "id": "NM3wmcwxqR1Y"
      },
      "source": [
        "## Next Model"
      ]
    },
    {
      "cell_type": "code",
      "metadata": {
        "id": "FjNA54Kuqdnc"
      },
      "source": [
        ""
      ],
      "execution_count": null,
      "outputs": []
    }
  ]
}
